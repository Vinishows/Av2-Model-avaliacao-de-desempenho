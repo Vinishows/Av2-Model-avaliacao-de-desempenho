{
 "cells": [
  {
   "cell_type": "code",
   "execution_count": 18,
   "id": "169a40c5",
   "metadata": {},
   "outputs": [],
   "source": [
    "import pandas as pd\n",
    "import numpy as np\n",
    "import matplotlib.pyplot as plt\n",
    "import seaborn as sns\n",
    "import statsmodels.api as sm\n",
    "import math"
   ]
  },
  {
   "cell_type": "markdown",
   "id": "b8a84896",
   "metadata": {},
   "source": [
    "# Questão 1:"
   ]
  },
  {
   "cell_type": "code",
   "execution_count": 19,
   "id": "6b2181f0",
   "metadata": {},
   "outputs": [
    {
     "name": "stdout",
     "output_type": "stream",
     "text": [
      "O sistema está estável.\n",
      "λ (taxa de chegada): 0.3333\n",
      "μ (taxa de serviço): 0.5000\n",
      "ρ (fator de utilização): 0.6667\n",
      "TS (tempo médio no sistema): 6.0000\n",
      "TF (tempo médio na fila): 4.0000\n",
      "NS (nº médio no sistema): 2.0000\n"
     ]
    }
   ],
   "source": [
    "# Teoria das Filas - Questão 01\n",
    "def fila_um_servidor(t):\n",
    "    lambd = 20 / 60\n",
    "\n",
    "    mu = 1 / t\n",
    "\n",
    "    rho = lambd / mu\n",
    "\n",
    "    if rho >= 1:\n",
    "        print(\"O sistema está instável. Expansão é necessária.\")\n",
    "    else:\n",
    "        print(\"O sistema está estável.\")\n",
    "\n",
    "    TS = 1 / (mu - lambd)\n",
    "    TF = rho * TS\n",
    "    NS = lambd * TS\n",
    "\n",
    "    return {\n",
    "        'λ (taxa de chegada)': lambd,\n",
    "        'μ (taxa de serviço)': mu,\n",
    "        'ρ (fator de utilização)': rho,\n",
    "        'TS (tempo médio no sistema)': TS,\n",
    "        'TF (tempo médio na fila)': TF,\n",
    "        'NS (nº médio no sistema)': NS\n",
    "    }\n",
    "\n",
    "resultado = fila_um_servidor(2)\n",
    "for chave, valor in resultado.items():\n",
    "    print(f\"{chave}: {valor:.4f}\")\n"
   ]
  },
  {
   "cell_type": "markdown",
   "id": "6370eee1",
   "metadata": {},
   "source": [
    "# Questão 2:"
   ]
  },
  {
   "cell_type": "code",
   "execution_count": null,
   "id": "291c6977",
   "metadata": {},
   "outputs": [
    {
     "data": {
      "text/plain": [
       "{'Servidores necessários (c)': 4,\n",
       " 'λ': 8,\n",
       " 'μ': 2.5,\n",
       " 'ρ': 0.8,\n",
       " 'P0 (prob. sistema vazio)': 0.02730251183108845,\n",
       " 'Lq (nº médio na fila)': 2.3857298871496186,\n",
       " 'TF (tempo médio na fila)': 0.29821623589370233,\n",
       " 'TS (tempo médio no sistema)': 0.6982162358937023,\n",
       " 'NS (nº médio no sistema)': 5.585729887149618,\n",
       " 'Sistema bem dimensionado': True}"
      ]
     },
     "execution_count": 20,
     "metadata": {},
     "output_type": "execute_result"
    }
   ],
   "source": [
    "\n",
    "def mmc_fila(lambd=8, mu=2.5, criterio_rho=0.8):\n",
    "    c = int(np.ceil(lambd / (mu * criterio_rho)))\n",
    "    rho = lambd / (c * mu)\n",
    "\n",
    "    sum1 = sum([(lambd / mu)**n / math.factorial(n) for n in range(c)])\n",
    "    sum2 = ((lambd / mu)**c / (math.factorial(c) * (1 - rho)))\n",
    "    P0 = 1 / (sum1 + sum2)\n",
    "\n",
    "    Lq = ((lambd / mu)**c * rho) / (math.factorial(c) * (1 - rho)**2) * P0\n",
    "    TF = Lq / lambd\n",
    "    TS = TF + 1/mu\n",
    "    NS = lambd * TS\n",
    "\n",
    "    return {\n",
    "        \"λ\": lambd,\n",
    "        \"μ\": mu,\n",
    "        \"ρ\": rho,\n",
    "        \"P0 (prob. sistema vazio)\": P0,\n",
    "        \"Lq (nº médio na fila)\": Lq,\n",
    "        \"TF (tempo médio na fila)\": TF,\n",
    "        \"TS (tempo médio no sistema)\": TS,\n",
    "        \"NS (nº médio no sistema)\": NS,\n",
    "        \"Sistema bem dimensionado\": rho < 1\n",
    "    }\n",
    "\n",
    "mmc_fila()"
   ]
  }
 ],
 "metadata": {
  "kernelspec": {
   "display_name": "Python 3",
   "language": "python",
   "name": "python3"
  },
  "language_info": {
   "codemirror_mode": {
    "name": "ipython",
    "version": 3
   },
   "file_extension": ".py",
   "mimetype": "text/x-python",
   "name": "python",
   "nbconvert_exporter": "python",
   "pygments_lexer": "ipython3",
   "version": "3.11.4"
  }
 },
 "nbformat": 4,
 "nbformat_minor": 5
}
